{
 "cells": [
  {
   "cell_type": "code",
   "execution_count": 6,
   "metadata": {
    "scrolled": false
   },
   "outputs": [
    {
     "name": "stderr",
     "output_type": "stream",
     "text": [
      "[WDM] - Downloading: 100%|████████████████████████████████████████████████████████| 6.46M/6.46M [00:00<00:00, 11.5MB/s]\n",
      "C:\\Users\\apuser\\AppData\\Local\\Temp\\ipykernel_18728\\1701966605.py:19: DeprecationWarning: executable_path has been deprecated, please pass in a Service object\n",
      "  driver = webdriver.Chrome(ChromeDriverManager().install())\n"
     ]
    }
   ],
   "source": [
    "import selenium\n",
    "from selenium import webdriver\n",
    "from webdriver_manager.chrome import ChromeDriverManager\n",
    "from bs4 import BeautifulSoup\n",
    "import time as tm\n",
    "import pandas as pd\n",
    "from random import randint\n",
    "import re\n",
    "from ftplib import FTP\n",
    "from datetime import datetime\n",
    "from glob import glob\n",
    "\n",
    "#設定webdriver的參數，這個prefs是關掉Facebook通知\n",
    "\n",
    "chrome_options = webdriver.ChromeOptions()\n",
    "chrome_options.add_argument('--disable-notifications')\n",
    "prefs = {\"profile.default_content_setting_values.notifications\" : 2}\n",
    "chrome_options.add_experimental_option(\"prefs\",prefs)\n",
    "driver = webdriver.Chrome(ChromeDriverManager().install())\n",
    "driver.set_window_size(1024, 768)\n",
    "\n",
    "url = 'https://www.cna.com.tw/project/20200605-recallvote/embed.html'\n"
   ]
  },
  {
   "cell_type": "code",
   "execution_count": 7,
   "metadata": {},
   "outputs": [],
   "source": [
    "while 'data\\\\final.json' not in glob('data\\\\*.json'):\n",
    "    loopbegin = datetime.now()\n",
    "    driver.get(url)\n",
    "    driver.get_screenshot_as_file('focus.png')\n",
    "    \n",
    "    file_path = 'focus.png'\n",
    "#     with FTP('demo.cna.com.tw','u0401006','capo4188') as ftp, open(file_path, 'rb') as file:\n",
    "#         ftp.cwd('/20200605-recallvote')\n",
    "#         ftp.storbinary(f'STOR {file_path}', file)\n",
    "    \n",
    "    with FTP('172.17.242.151','20090948','u0401006@CNA123') as ftp, open(file_path, 'rb') as file:\n",
    "        ftp.cwd('/20200605-recallvote')\n",
    "        ftp.storbinary(f'STOR {file_path}', file)\n",
    "    with FTP('210.69.89.186','20090948','u0401006@CNA123') as ftp, open(file_path, 'rb') as file:\n",
    "        ftp.cwd('/20200605-recallvote')\n",
    "        ftp.storbinary(f'STOR {file_path}', file)\n",
    "    n = datetime.now().strftime('%H:%M')\n",
    "    print(f'{n} uploaded, now sleep')\n",
    "    tm.sleep(180-(datetime.now()-loopbegin).total_seconds())"
   ]
  }
 ],
 "metadata": {
  "kernelspec": {
   "display_name": "Python 3 (ipykernel)",
   "language": "python",
   "name": "python3"
  },
  "language_info": {
   "codemirror_mode": {
    "name": "ipython",
    "version": 3
   },
   "file_extension": ".py",
   "mimetype": "text/x-python",
   "name": "python",
   "nbconvert_exporter": "python",
   "pygments_lexer": "ipython3",
   "version": "3.9.13"
  }
 },
 "nbformat": 4,
 "nbformat_minor": 2
}
